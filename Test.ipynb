{
 "cells": [
  {
   "cell_type": "code",
   "execution_count": 1,
   "metadata": {},
   "outputs": [],
   "source": [
    "import requests\n",
    "from flask import Flask, request, redirect\n",
    "from twilio.twiml.messaging_response import MessagingResponse\n",
    "from pyedgeon import Pyedgeon\n",
    "#from src.validate_sms import validate_sms\n",
    "#from src.imgur_lib import *\n",
    "from pathlib import Path\n",
    "import logging\n",
    "from imgurpython import ImgurClient\n",
    "import os\n",
    "import json\n",
    "import logging\n",
    "\n",
    "logging.basicConfig(filename='logs/app.log', filemode='w',\n",
    "                    format='%(name)s - %(levelname)s - %(message)s')\n",
    "\n",
    "app = Flask(__name__)\n",
    "\n",
    "# twilio credential go here\n",
    "twilio_sid = os.environ['TWILIO_SID']\n",
    "twilio_secret = os.environ['TWILIO_SECRET']\n",
    "twilio_number = os.environ['TWILIO_NUMBER']\n",
    "client_id = os.environ['IMGUR_ID']\n",
    "client_secret = os.environ['IMGUR_SECRET']\n"
   ]
  },
  {
   "cell_type": "code",
   "execution_count": 14,
   "metadata": {},
   "outputs": [],
   "source": [
    "text = \"hello world\"\n",
    "msg_id = \"xxx42069\"\n",
    "file_path = 'static/'\n",
    "file_ext='.png'\n",
    "ill = Pyedgeon(illusion_text=text,\n",
    "                   file_path=file_path,\n",
    "                   file_name=msg_id,\n",
    "                   file_ext=file_ext)\n",
    "ill.create()"
   ]
  },
  {
   "cell_type": "code",
   "execution_count": 15,
   "metadata": {},
   "outputs": [],
   "source": [
    "client = ImgurClient(client_id, client_secret)"
   ]
  },
  {
   "cell_type": "code",
   "execution_count": 18,
   "metadata": {
    "collapsed": true
   },
   "outputs": [],
   "source": [
    "#\"album\" : \"pyedgeon-service-anon\",\n",
    "conf = {\"description\": text,\n",
    "        \"title\" : msg_id}"
   ]
  },
  {
   "cell_type": "code",
   "execution_count": 19,
   "metadata": {},
   "outputs": [],
   "source": [
    "res = client.upload_from_path(file_path+msg_id+file_ext, config = conf, anon = True)"
   ]
  },
  {
   "cell_type": "code",
   "execution_count": 20,
   "metadata": {},
   "outputs": [
    {
     "data": {
      "text/plain": [
       "'https://i.imgur.com/RpMst3g.png'"
      ]
     },
     "execution_count": 20,
     "metadata": {},
     "output_type": "execute_result"
    }
   ],
   "source": [
    "res['link']"
   ]
  },
  {
   "cell_type": "code",
   "execution_count": null,
   "metadata": {
    "collapsed": true
   },
   "outputs": [],
   "source": [
    "def img_upload(file_path, text, msg_id):\n",
    "\n",
    "    client = ImgurClient(client_id, client_secret)\n",
    "    conf = {\"album\" : \"pyedgeon-service-anon\",\n",
    "        \"description\": text,\n",
    "        \"title\" : msg_id}\n",
    "    res = client.upload_from_path(file_path, config = conf, anon = True)\n",
    "    #print(res)\n",
    "    #print(res[\"link\"])\n",
    "    return res"
   ]
  },
  {
   "cell_type": "code",
   "execution_count": null,
   "metadata": {
    "collapsed": true
   },
   "outputs": [],
   "source": [
    "res = img_upload(ill.get_file_path(), ill.illusion_text, msg_id)"
   ]
  },
  {
   "cell_type": "code",
   "execution_count": null,
   "metadata": {
    "collapsed": true
   },
   "outputs": [],
   "source": [
    "def sms_reply():\n",
    "    \"\"\"Respond to incoming with a simple text message.\"\"\"\n",
    "\n",
    "    resp = MessagingResponse()\n",
    "    # validate input and prepare txt, msg_id\n",
    "    clean_request = validate_sms(request)\n",
    "    text = clean_request.values['body']\n",
    "    msg_id = clean_request.values['sid']\n",
    "    # create illusion object & save to file\n",
    "    ill = Pyedgeon(illusion_text=text,\n",
    "                   file_path='static/',\n",
    "                   filename=msg_id,\n",
    "                   file_ext='.png')\n",
    "    ill.create()\n",
    "    # take created file and push to imgur anonymously\n",
    "    res = img_upload(ill.get_file_path(), ill.illusion_text, msg_id)\n",
    "    img_link = res[\"link\"]\n",
    "    resp.messages(body=\"Thanks for using pyedgeon!\",\n",
    "                  media_url=img_link)\n",
    "\n",
    "    return resp\n"
   ]
  },
  {
   "cell_type": "code",
   "execution_count": null,
   "metadata": {
    "collapsed": true
   },
   "outputs": [],
   "source": [
    "def img_upload(file_path, text, msg_id):\n",
    "\n",
    "    client = ImgurClient(client_id, client_secret)\n",
    "    conf = {\"album\" : \"pyedgeon-service-anon\",\n",
    "        \"description\": text,\n",
    "        \"title\" : msg_id}\n",
    "    res = client.upload_from_path(file_path, config = conf, anon = True)\n",
    "    #print(res)\n",
    "    #print(res[\"link\"])\n",
    "    return res"
   ]
  }
 ],
 "metadata": {
  "kernelspec": {
   "display_name": "Python 3",
   "language": "python",
   "name": "python3"
  },
  "language_info": {
   "codemirror_mode": {
    "name": "ipython",
    "version": 3
   },
   "file_extension": ".py",
   "mimetype": "text/x-python",
   "name": "python",
   "nbconvert_exporter": "python",
   "pygments_lexer": "ipython3",
   "version": "3.5.2"
  }
 },
 "nbformat": 4,
 "nbformat_minor": 2
}
